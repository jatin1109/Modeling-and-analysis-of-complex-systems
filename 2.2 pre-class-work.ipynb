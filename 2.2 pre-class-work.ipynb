{
 "cells": [
  {
   "cell_type": "code",
   "execution_count": 1,
   "metadata": {},
   "outputs": [],
   "source": [
    "import heapq\n",
    "\n",
    "class Event:\n",
    "    '''\n",
    "    Store the properties of one event in the Schedule class defined below. Each\n",
    "    event has a time at which it needs to run, a function to call when running\n",
    "    the event, along with the arguments and keyword arguments to pass to that\n",
    "    function.\n",
    "    '''\n",
    "    def __init__(self, timestamp, function, *args, **kwargs):\n",
    "        self.timestamp = timestamp\n",
    "        self.function = function\n",
    "        self.args = args\n",
    "        self.kwargs = kwargs\n",
    "\n",
    "    def __lt__(self, other):\n",
    "        '''\n",
    "        This overloads the less-than operator in Python. We need it so the\n",
    "        priority queue knows how to compare two events. We want events with\n",
    "        earlier (smaller) times to go first.\n",
    "        '''\n",
    "        return self.timestamp < other.timestamp\n",
    "\n",
    "    def run(self, schedule):\n",
    "        '''\n",
    "        Run an event by calling the function with its arguments and keyword\n",
    "        arguments. The first argument to any event function is always the\n",
    "        schedule in which events are being tracked. The schedule object can be\n",
    "        used to add new events to the priority queue.\n",
    "        '''\n",
    "        self.function(schedule, *self.args, **self.kwargs)\n",
    "\n",
    "\n",
    "class Schedule:\n",
    "    '''\n",
    "    Implement an event schedule using a priority queue. You can add events and\n",
    "    run the next event.\n",
    "    \n",
    "    The `now` attribute contains the time at which the last event was run.\n",
    "    '''\n",
    "    \n",
    "    def __init__(self):\n",
    "        self.now = 0  # Keep track of the current simulation time\n",
    "        self.priority_queue = []  # The priority queue of events to run\n",
    "    \n",
    "    def add_event_at(self, timestamp, function, *args, **kwargs):\n",
    "        # Add an event to the schedule at a particular point in time.\n",
    "        heapq.heappush(\n",
    "            self.priority_queue,\n",
    "            Event(timestamp, function, *args, **kwargs))\n",
    "    \n",
    "    def add_event_after(self, interval, function, *args, **kwargs):\n",
    "        # Add an event to the schedule after a specified time interval.\n",
    "        self.add_event_at(self.now + interval, function, *args, **kwargs)\n",
    "    \n",
    "    def next_event_time(self):\n",
    "        return self.priority_queue[0].timestamp\n",
    "\n",
    "    def run_next_event(self):\n",
    "        # Get the next event from the priority queue and run it.\n",
    "        event = heapq.heappop(self.priority_queue)\n",
    "        self.now = event.timestamp\n",
    "        event.run(self)\n",
    "        \n",
    "    def __repr__(self):\n",
    "        return (\n",
    "            f'Schedule() at time {self.now} ' +\n",
    "            f'with {len(self.priority_queue)} events in the queue')\n",
    "    \n",
    "    def print_events(self):\n",
    "        print(repr(self))\n",
    "        for event in sorted(self.priority_queue):\n",
    "            print(f'   {event.timestamp}: {event.function.__name__}')\n"
   ]
  },
  {
   "cell_type": "code",
   "execution_count": 3,
   "metadata": {},
   "outputs": [],
   "source": [
    "# M/D/1 queue\n",
    "\n",
    "import scipy.stats as sts\n",
    "\n",
    "\n",
    "class Queue:\n",
    "    def __init__(self, service_rate):\n",
    "        # Store the deterministic service time for an M/D/1 queue\n",
    "        self.service_time = 1 / service_rate\n",
    "        # We start with an empty queue and the server not busy\n",
    "        self.people_in_queue = 0\n",
    "        self.people_being_served = 0\n",
    "\n",
    "    def add_customer(self, schedule):\n",
    "        # Add the customer to the queue\n",
    "        self.people_in_queue += 1\n",
    "        if self.people_being_served < 1:\n",
    "            # This customer can be served immediately\n",
    "            schedule.add_event_after(0, self.start_serving_customer)\n",
    "            \n",
    "    def start_serving_customer(self, schedule):\n",
    "        # Move the customer from the queue to a server\n",
    "        self.people_in_queue -= 1\n",
    "        self.people_being_served += 1\n",
    "        # Schedule when the server will be done with the customer\n",
    "        schedule.add_event_after(\n",
    "            self.service_time,\n",
    "            self.finish_serving_customer)\n",
    "            \n",
    "    def finish_serving_customer(self, schedule):\n",
    "        # Remove the customer from the server\n",
    "        self.people_being_served -= 1\n",
    "        if self.people_in_queue > 0:\n",
    "            # There are more people in the queue so serve the next customer\n",
    "            schedule.add_event_after(0, self.start_serving_customer)\n",
    "\n",
    "\n",
    "class BusSystem:\n",
    "    \n",
    "    def __init__(self, arrival_rate, service_rate):\n",
    "        self.queue = Queue(service_rate)\n",
    "        self.arrival_distribution = sts.expon(scale=1/arrival_rate)\n",
    "\n",
    "    def add_customer(self, schedule):\n",
    "        # Add this customer to the queue\n",
    "        self.queue.add_customer(schedule)\n",
    "        # Schedule when to add another customer\n",
    "        schedule.add_event_after(\n",
    "            self.arrival_distribution.rvs(),\n",
    "            self.add_customer)\n",
    "\n",
    "    def run(self, schedule):\n",
    "        # Schedule when the first customer arrives\n",
    "        schedule.add_event_after(\n",
    "            self.arrival_distribution.rvs(),\n",
    "            self.add_customer)\n",
    "        \n",
    "\n",
    "def run_simulation(arrival_rate, service_rate, run_until):\n",
    "    schedule = Schedule()\n",
    "    bus_system = BusSystem(arrival_rate, service_rate)\n",
    "    bus_system.run(schedule)\n",
    "    while schedule.next_event_time() < run_until:\n",
    "        schedule.run_next_event()\n",
    "    return bus_system"
   ]
  },
  {
   "cell_type": "code",
   "execution_count": 4,
   "metadata": {},
   "outputs": [
    {
     "name": "stdout",
     "output_type": "stream",
     "text": [
      "There are 57 people in the queue\n"
     ]
    }
   ],
   "source": [
    "# Run a short test\n",
    "bus_system = run_simulation(arrival_rate=1.2, service_rate=1, run_until=100)\n",
    "print(f'There are {bus_system.queue.people_in_queue} people in the queue')"
   ]
  },
  {
   "cell_type": "code",
   "execution_count": 6,
   "metadata": {},
   "outputs": [
    {
     "data": {
      "image/png": "[encoded data removed]",
      "text/plain": [
       "<Figure size 432x288 with 1 Axes>"
      ]
     },
     "metadata": {
      "needs_background": "light"
     },
     "output_type": "display_data"
    },
    {
     "name": "stdout",
     "output_type": "stream",
     "text": [
      "Sample mean: 1.71\n",
      "95% confidence interval of population mean: [1.3137711935374876, 2.1062288064625125]\n"
     ]
    }
   ],
   "source": [
    "import matplotlib.pyplot as plt\n",
    "import numpy as np\n",
    "\n",
    "def run_queue_len_experiment(trials, arrival_rate, service_rate):\n",
    "    queue_lens = []\n",
    "    for _ in range(trials):\n",
    "        bus_system = run_simulation(arrival_rate, service_rate, run_until=100)\n",
    "        q_len = bus_system.queue.people_in_queue\n",
    "        queue_lens.append(q_len)\n",
    "    return queue_lens\n",
    "\n",
    "q_len_1 = run_queue_len_experiment(100, 0.8, 1)\n",
    "\n",
    "\n",
    "plt.figure()\n",
    "plt.hist(q_len_1)\n",
    "plt.title('Experiment 1')\n",
    "plt.xlabel('Queue Length')\n",
    "plt.ylabel('Frequency')\n",
    "plt.show()\n",
    "\n",
    "mean = np.mean(q_len_1)\n",
    "t_val = sts.sem(q_len_1)\n",
    "\n",
    "print(f'Sample mean: {mean}')\n",
    "print(f'95% confidence interval of population mean: [{mean - 1.96*t_val}, {mean + 1.96*t_val}]')"
   ]
  },
  {
   "cell_type": "code",
   "execution_count": 7,
   "metadata": {},
   "outputs": [
    {
     "data": {
      "image/png": "[encoded data removed]",
      "text/plain": [
       "<Figure size 432x288 with 1 Axes>"
      ]
     },
     "metadata": {
      "needs_background": "light"
     },
     "output_type": "display_data"
    },
    {
     "name": "stdout",
     "output_type": "stream",
     "text": [
      "Sample mean: 1.554\n",
      "95% confidence interval of population mean: [1.4193178215813853, 1.6886821784186148]\n"
     ]
    }
   ],
   "source": [
    "q_len_2 = run_queue_len_experiment(1000, 0.8, 1)\n",
    "\n",
    "\n",
    "plt.figure()\n",
    "plt.hist(q_len_2)\n",
    "plt.title('Experiment 2: 1000 trials')\n",
    "plt.xlabel('Queue Length')\n",
    "plt.ylabel('Frequency')\n",
    "plt.show()\n",
    "\n",
    "mean = np.mean(q_len_2)\n",
    "t_val = sts.sem(q_len_2)\n",
    "\n",
    "print(f'Sample mean: {mean}')\n",
    "print(f'95% confidence interval of population mean: [{mean - 1.96*t_val}, {mean + 1.96*t_val}]')"
   ]
  },
  {
   "cell_type": "markdown",
   "metadata": {},
   "source": [
    "The distribution of the queue length is more skewed towards the left after 1000 trials. The estimate of average queue length hasn't changed much, but, the confidence interval has gotten smaller. This makes sense since the confidence interval is inversely proportional to the square root of the number of trials. As we increase the number of trials, we decrease the confidence interval."
   ]
  },
  {
   "cell_type": "code",
   "execution_count": 9,
   "metadata": {},
   "outputs": [
    {
     "data": {
      "image/png": "[encoded data removed]",
      "text/plain": [
       "<Figure size 432x288 with 1 Axes>"
      ]
     },
     "metadata": {
      "needs_background": "light"
     },
     "output_type": "display_data"
    }
   ],
   "source": [
    "arrival_rates = np.linspace(0.8, 1.2, 10)\n",
    "avg_q_lens = []\n",
    "q_len_errors = []\n",
    "for rate in arrival_rates:\n",
    "    q_lens = run_queue_len_experiment(1000, rate, 1)\n",
    "    avg_q_lens.append(np.mean(q_lens))\n",
    "    q_len_errors.append(1.96*sts.sem(q_lens))\n",
    "\n",
    "plt.figure()\n",
    "plt.errorbar(arrival_rates, avg_q_lens, q_len_errors, color = 'black', marker = 'o', capsize=5, linestyle = '--')\n",
    "plt.axhline(5, color = 'red', linestyle = '--')\n",
    "plt.title('Experiment 3: 1000 trials')\n",
    "plt.xlabel('Arrival Rate')\n",
    "plt.ylabel('Average queue length')\n",
    "plt.show()"
   ]
  },
  {
   "cell_type": "markdown",
   "metadata": {},
   "source": [
    "As we can see from the figure above, the queue length becomes larger than 5 for arrival rate around 0.94 and for a service rate of 1. \n",
    "\n",
    "## Reflection\n",
    "\n",
    "1. #empericalanalysis: The pre-class work was used to analyze the M/D/1 queue model. We ran the simulation for multiple trials to make sure we account for extreme results. We also provide confidence interval of our statistic to convey the variability in results. The results are interpreted correctly.\n",
    "\n",
    "2. #professionalism: The work is professional, the plots have labels and titles. I make sure to answer all the prompts required, and produce the plots required to answer the questions. "
   ]
  }
 ],
 "metadata": {
  "kernelspec": {
   "display_name": "Python 3",
   "language": "python",
   "name": "python3"
  },
  "language_info": {
   "codemirror_mode": {
    "name": "ipython",
    "version": 3
   },
   "file_extension": ".py",
   "mimetype": "text/x-python",
   "name": "python",
   "nbconvert_exporter": "python",
   "pygments_lexer": "ipython3",
   "version": "3.10.1"
  }
 },
 "nbformat": 4,
 "nbformat_minor": 4
}
