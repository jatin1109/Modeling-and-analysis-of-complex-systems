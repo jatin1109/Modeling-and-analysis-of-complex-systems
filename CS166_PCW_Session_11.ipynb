{
  "nbformat": 4,
  "nbformat_minor": 0,
  "metadata": {
    "colab": {
      "provenance": []
    },
    "kernelspec": {
      "name": "python3",
      "display_name": "Python 3"
    },
    "language_info": {
      "name": "python"
    }
  },
  "cells": [
    {
      "cell_type": "markdown",
      "source": [
        "## Sampling bias for bus waiting times"
      ],
      "metadata": {
        "id": "p1XOGpVYjdSe"
      }
    },
    {
      "cell_type": "code",
      "source": [
        "import numpy as np\n",
        "import scipy.stats as sts\n",
        "import scipy\n",
        "import matplotlib.pyplot as plt"
      ],
      "metadata": {
        "id": "3zFToTsytAZ-"
      },
      "execution_count": null,
      "outputs": []
    },
    {
      "cell_type": "code",
      "execution_count": null,
      "metadata": {
        "colab": {
          "base_uri": "https://localhost:8080/",
          "height": 297
        },
        "id": "X231rVwSjZwj",
        "outputId": "51b69ba5-7792-494a-8eb7-d6141c1f971d"
      },
      "outputs": [
        {
          "output_type": "display_data",
          "data": {
            "text/plain": [
              "<Figure size 432x288 with 1 Axes>"
            ],
            "image/png": "[encoded data removed]"
          },
          "metadata": {
            "needs_background": "light"
          }
        },
        {
          "output_type": "execute_result",
          "data": {
            "text/plain": [
              "(1.0054899772074168, 1.0004958627515195)"
            ]
          },
          "metadata": {},
          "execution_count": 2
        }
      ],
      "source": [
        "lambda_val = 1\n",
        "start_time = 0\n",
        "end_time = 10\n",
        "exponential_distribution = sts.expon(scale = 1/lambda_val)\n",
        "uniform_distribution = sts.uniform(loc = 0, scale = lambda_val * 2)\n",
        "\n",
        "\n",
        "def binary_search_next_largest(sorted_arr, val):\n",
        "    l = 0\n",
        "    r = len(sorted_arr)\n",
        "\n",
        "    while l < r:\n",
        "        mid = (l + r) // 2\n",
        "        if sorted_arr[mid] < val:\n",
        "            l = mid + 1\n",
        "        else:\n",
        "            r = mid\n",
        "    return sorted_arr[l]\n",
        "\n",
        "\n",
        "def get_waiting_time(distribution, start_time = start_time, end_time = end_time):\n",
        "    duration = end_time - start_time\n",
        "    bus_arrival_times = [distribution.rvs()]\n",
        "    while bus_arrival_times[-1] <= end_time:\n",
        "        bus_arrival_times.append(bus_arrival_times[-1] + distribution.rvs())\n",
        "    passenger_arrival = sts.uniform(loc=start_time, scale=end_time).rvs()\n",
        "\n",
        "    #do binary search so it's faster\n",
        "    next_arrival = binary_search_next_largest(bus_arrival_times, passenger_arrival)\n",
        "    return next_arrival - passenger_arrival\n",
        "\n",
        "\n",
        "def simulate_waiting_time(reps = 10000, *args, **kwargs):\n",
        "    waiting_times = []\n",
        "    for _ in range(reps):\n",
        "        waiting_times.append(get_waiting_time(*args, **kwargs))\n",
        "\n",
        "    plt.hist(waiting_times)\n",
        "    plt.xlabel(\"Waiting times\")\n",
        "    plt.ylabel(\"Frequency\")\n",
        "    plt.show()\n",
        "    \n",
        "    return (np.mean(waiting_times), np.var(waiting_times))\n",
        "\n",
        "simulate_waiting_time(distribution = exponential_distribution)\n"
      ]
    },
    {
      "cell_type": "code",
      "source": [
        "simulate_waiting_time(distribution = uniform_distribution)"
      ],
      "metadata": {
        "colab": {
          "base_uri": "https://localhost:8080/",
          "height": 297
        },
        "id": "0mHlMiySz3HT",
        "outputId": "84a23489-181c-4711-d0c9-af283041c1d1"
      },
      "execution_count": null,
      "outputs": [
        {
          "output_type": "display_data",
          "data": {
            "text/plain": [
              "<Figure size 432x288 with 1 Axes>"
            ],
            "image/png": "[encoded data removed]"
          },
          "metadata": {
            "needs_background": "light"
          }
        },
        {
          "output_type": "execute_result",
          "data": {
            "text/plain": [
              "(0.675142941088443, 0.22862673358146757)"
            ]
          },
          "metadata": {},
          "execution_count": 3
        }
      ]
    },
    {
      "cell_type": "code",
      "source": [
        "lambda_val = 3\n",
        "start_time = 0\n",
        "end_time = 30\n",
        "exponential_distribution = sts.expon(scale = 1/lambda_val)\n",
        "uniform_distribution = sts.uniform(loc = 0, scale = lambda_val * 2)\n",
        "simulate_waiting_time(distribution = exponential_distribution)"
      ],
      "metadata": {
        "colab": {
          "base_uri": "https://localhost:8080/",
          "height": 297
        },
        "id": "pzdAKiCU0uwA",
        "outputId": "9a4436d6-903f-4245-eb4e-d44ed605cac6"
      },
      "execution_count": null,
      "outputs": [
        {
          "output_type": "display_data",
          "data": {
            "image/png": "[encoded data removed]",
            "text/plain": [
              "<Figure size 432x288 with 1 Axes>"
            ]
          },
          "metadata": {
            "needs_background": "light"
          }
        },
        {
          "output_type": "execute_result",
          "data": {
            "text/plain": [
              "(0.33316609859760327, 0.11456766285828986)"
            ]
          },
          "metadata": {},
          "execution_count": 31
        }
      ]
    },
    {
      "cell_type": "code",
      "source": [
        "simulate_waiting_time(distribution = uniform_distribution)"
      ],
      "metadata": {
        "colab": {
          "base_uri": "https://localhost:8080/",
          "height": 297
        },
        "id": "9Ql8JGts03MM",
        "outputId": "0ad5a401-ff4e-47e2-e983-0c5d2e4f848c"
      },
      "execution_count": null,
      "outputs": [
        {
          "output_type": "display_data",
          "data": {
            "image/png": "[encoded data removed]",
            "text/plain": [
              "<Figure size 432x288 with 1 Axes>"
            ]
          },
          "metadata": {
            "needs_background": "light"
          }
        },
        {
          "output_type": "execute_result",
          "data": {
            "text/plain": [
              "(2.0817050643896167, 2.039100669236283)"
            ]
          },
          "metadata": {},
          "execution_count": 32
        }
      ]
    },
    {
      "cell_type": "markdown",
      "source": [
        "We can see that the expected waiting time for exponential distribution is roughly equal to 1/lambda, whereas the uniform distribution is roughly equal to 2/3 * lambda. "
      ],
      "metadata": {
        "id": "pkVMyRXN0asd"
      }
    },
    {
      "cell_type": "markdown",
      "source": [
        "## Retirement benefit projection"
      ],
      "metadata": {
        "id": "HzVuwAD1jfo-"
      }
    },
    {
      "cell_type": "code",
      "source": [
        "data = {\n",
        "    50: 0.00832,\n",
        "    51: 0.00911,\n",
        "    52: 0.00996,\n",
        "    53: 0.01089,\n",
        "    54: 0.01190,\n",
        "    55: 0.01300,\n",
        "    56: 0.01421,\n",
        "    57: 0.01554,\n",
        "    58: 0.01700,\n",
        "    59: 0.01859,\n",
        "    60: 0.02034,\n",
        "    61: 0.02224,\n",
        "    62: 0.02431,\n",
        "    63: 0.02657,\n",
        "    64: 0.02904,\n",
        "    65: 0.03175,\n",
        "    66: 0.03474,\n",
        "    67: 0.03804,\n",
        "    68: 0.04168,\n",
        "    69: 0.04561,\n",
        "    70: 0.04979,\n",
        "    71: 0.05415,\n",
        "    72: 0.05865,\n",
        "    73: 0.06326,\n",
        "    74: 0.06812,\n",
        "    75: 0.07337,\n",
        "    76: 0.07918,\n",
        "    77: 0.08570,\n",
        "    78: 0.09306,\n",
        "    79: 0.10119,\n",
        "    80: 0.10998,\n",
        "    81: 0.11935,\n",
        "    82: 0.12917,\n",
        "    83: 0.13938,\n",
        "    84: 0.15001,\n",
        "    85: 0.16114,\n",
        "    86: 0.17282,\n",
        "    87: 0.18513,\n",
        "    88: 0.19825,\n",
        "    89: 0.21246,\n",
        "    90: 0.22814,\n",
        "    91: 0.24577,\n",
        "    92: 0.26593,\n",
        "    93: 0.28930,\n",
        "    94: 0.31666,\n",
        "    95: 0.35124,\n",
        "    96: 0.40056,\n",
        "    97: 0.48842,\n",
        "    98: 0.66815,\n",
        "    99: 0.72000,\n",
        "    100: 0.76000,\n",
        "    101: 0.80000,\n",
        "    102: 0.85000,\n",
        "    103: 0.90000,\n",
        "    104: 0.96000,\n",
        "    105: 1.00000}"
      ],
      "metadata": {
        "id": "zTblADGdjhRg"
      },
      "execution_count": null,
      "outputs": []
    },
    {
      "cell_type": "code",
      "source": [
        "initial = 150000\n",
        "interest_mean = 0.08\n",
        "interest_std = 0.09\n",
        "investing = 10000\n",
        "starting_age = 50\n",
        "withdrawal = 65000\n",
        "withdrawal_age = 70\n",
        "\n",
        "def money_at_death(initial = initial, interest_mean = interest_mean, \n",
        "                   interest_std = interest_std, investing = investing, \n",
        "                   starting_age = starting_age, withdrawal = withdrawal,\n",
        "                   withdrawal_age = withdrawal_age, mortality_table = data):\n",
        "    \n",
        "    investment_distribution = sts.norm(loc=interest_mean, scale=interest_std)\n",
        "\n",
        "    total_money = initial\n",
        "    current_age = starting_age\n",
        "\n",
        "    while np.random.uniform(size=1) > mortality_table[current_age]:\n",
        "        total_money *= (1 + investment_distribution.rvs())\n",
        "        if current_age < withdrawal_age:\n",
        "            total_money += investing\n",
        "        else:\n",
        "            total_money -= withdrawal\n",
        "        current_age += 1\n",
        "    \n",
        "    return total_money\n",
        "\n",
        "def simulate_total_money(reps = 1000, *args, **kwargs):\n",
        "    y_vals = []\n",
        "    for _ in range(reps):\n",
        "        y_vals.append(money_at_death(*args, **kwargs))\n",
        "    print(np.mean(y_vals))\n",
        "    plt.hist(y_vals, bins = 30)\n",
        "    plt.xlabel(\"Amount of money at death\")\n",
        "    plt.ylabel(\"Frequency\")\n",
        "\n",
        "simulate_total_money()"
      ],
      "metadata": {
        "colab": {
          "base_uri": "https://localhost:8080/",
          "height": 297
        },
        "id": "wWOhZ3xMjnRn",
        "outputId": "30a4b198-04bc-4bd4-c5e3-0a03cf492779"
      },
      "execution_count": null,
      "outputs": [
        {
          "output_type": "stream",
          "name": "stdout",
          "text": [
            "1251677.065942949\n"
          ]
        },
        {
          "output_type": "display_data",
          "data": {
            "text/plain": [
              "<Figure size 432x288 with 1 Axes>"
            ],
            "image/png": "[encoded data removed]"
          },
          "metadata": {
            "needs_background": "light"
          }
        }
      ]
    },
    {
      "cell_type": "code",
      "source": [
        "new_data = [i for i in data.values()]\n",
        "new_data = np.cumsum(new_data)\n",
        "print(new_data)"
      ],
      "metadata": {
        "id": "Ax1pUGN0myIB",
        "colab": {
          "base_uri": "https://localhost:8080/"
        },
        "outputId": "623f2687-0c1b-47a2-d958-4ef1d8a5899d"
      },
      "execution_count": null,
      "outputs": [
        {
          "output_type": "stream",
          "name": "stdout",
          "text": [
            "[8.320000e-03 1.743000e-02 2.739000e-02 3.828000e-02 5.018000e-02\n",
            " 6.318000e-02 7.739000e-02 9.293000e-02 1.099300e-01 1.285200e-01\n",
            " 1.488600e-01 1.711000e-01 1.954100e-01 2.219800e-01 2.510200e-01\n",
            " 2.827700e-01 3.175100e-01 3.555500e-01 3.972300e-01 4.428400e-01\n",
            " 4.926300e-01 5.467800e-01 6.054300e-01 6.686900e-01 7.368100e-01\n",
            " 8.101800e-01 8.893600e-01 9.750600e-01 1.068120e+00 1.169310e+00\n",
            " 1.279290e+00 1.398640e+00 1.527810e+00 1.667190e+00 1.817200e+00\n",
            " 1.978340e+00 2.151160e+00 2.336290e+00 2.534540e+00 2.747000e+00\n",
            " 2.975140e+00 3.220910e+00 3.486840e+00 3.776140e+00 4.092800e+00\n",
            " 4.444040e+00 4.844600e+00 5.333020e+00 6.001170e+00 6.721170e+00\n",
            " 7.481170e+00 8.281170e+00 9.131170e+00 1.003117e+01 1.099117e+01\n",
            " 1.199117e+01]\n"
          ]
        }
      ]
    },
    {
      "cell_type": "code",
      "source": [],
      "metadata": {
        "id": "yq92LH6n_5B3"
      },
      "execution_count": null,
      "outputs": []
    }
  ]
}